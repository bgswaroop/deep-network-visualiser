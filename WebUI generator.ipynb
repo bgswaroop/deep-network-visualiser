{
 "cells": [
  {
   "cell_type": "markdown",
   "metadata": {},
   "source": [
    "## Network viewer\n",
    "Code to generate the html page for the network viewer"
   ]
  },
  {
   "cell_type": "code",
   "execution_count": 229,
   "metadata": {},
   "outputs": [],
   "source": [
    "# Header\n",
    "def createHeader():\n",
    "    headerStr = r'''<!DOCTYPE html>\n",
    "<html>\n",
    "    <title>Network Visualizer</title>\n",
    "    <script src=\"js/w3.js\"></script>\n",
    "    <link rel=\"stylesheet\" href=\"css/w3.css\">\n",
    "    <link rel=\"icon\" href=\"images/Circle-icons-stack.svg.png\" type=\"image/x-icon\">\n",
    "    <body>'''\n",
    "    return headerStr\n",
    "\n",
    "def createFooter():\n",
    "    footerStr = r'''</body>\n",
    "</html>'''\n",
    "    return footerStr\n"
   ]
  },
  {
   "cell_type": "code",
   "execution_count": 260,
   "metadata": {},
   "outputs": [],
   "source": [
    "import os\n",
    "def returnBlock(blockID, filename, subDir):\n",
    "    imgStr = str();\n",
    "    for imageID, imgName in enumerate(os.listdir(subDir)):\n",
    "        imgStr += '''                            <img id=\"ImgId{}\" src=\"{}\" alt=\"{}\" width=\"150\" height=\"150\">\n",
    "'''.format(imageID, os.path.join(subDir, imgName), imgName)    \n",
    "    \n",
    "    blockStr = '''\n",
    "                <li>{}\n",
    "                    <button id=\"myButton\" class=\"w3-btn w3-dark-grey\" onclick=\"w3.toggleShow('.BlockId{}')\">{}</button>\n",
    "                    <div class=\"w3-row-padding\" style=\"margin:0 -16px\">            \n",
    "                        <div id=\"London\" class=\"w3-panel w3-light-grey w3-border BlockId{}\" style=\"display: block;\">\n",
    "{}\n",
    "                        </div>                        \n",
    "                    </div>\n",
    "                </li>\n",
    "    '''.format(filename, blockID, filename, blockID, imgStr);\n",
    "    return blockStr"
   ]
  },
  {
   "cell_type": "code",
   "execution_count": 263,
   "metadata": {},
   "outputs": [],
   "source": [
    "import os\n",
    "\n",
    "def createNetworkVisualizer(rootDirName):\n",
    "    headerBlock = createHeader();\n",
    "    \n",
    "    strBlock = str();\n",
    "    for layerID, filename in enumerate(os.listdir(rootDirName)):\n",
    "        subDir = os.path.join(rootDirName, filename)\n",
    "        strBlock += returnBlock(layerID, filename, subDir);\n",
    "\n",
    "    bodyBlock = r'''\n",
    "        <div class=\"w3-main w3-light-grey\" id=\"belowtopnav\" style=\"margin-left: 150px; margin-right: 150px; margin-top: 50px;\">\n",
    "            <div class=\"w3-row w3-white\">\n",
    "                <p>Click the Layer button to toggle between hiding and showing the element.</p>\n",
    "                <h2>Filter by Layer Name</h2>\n",
    "                <input type=\"text\" id=\"myInput2\" onkeyup=\"w3.filterHTML('#myUL', 'li', this.value)\" placeholder=\"Search for layer names..\" title=\"Type in a name\">\n",
    "                <ul id=\"myUL\" class=\"w3-ul\">\n",
    "                    {}\n",
    "                </ul>               \n",
    "            </div>\n",
    "        </div>\n",
    "    '''.format(strBlock)\n",
    "\n",
    "    footerBlock = createFooter();\n",
    "    \n",
    "    return headerBlock + bodyBlock + footerBlock"
   ]
  },
  {
   "cell_type": "code",
   "execution_count": 264,
   "metadata": {
    "collapsed": true
   },
   "outputs": [],
   "source": [
    "f = open('networkViewer.html', 'w')\n",
    "rootDirName = os.path.abspath('NeuralNetName')\n",
    "f.writelines(createNetworkVisualizer(rootDirName));\n",
    "f.close()"
   ]
  },
  {
   "cell_type": "code",
   "execution_count": 233,
   "metadata": {
    "collapsed": true
   },
   "outputs": [],
   "source": [
    "#Footer\n",
    "\n",
    "\n"
   ]
  },
  {
   "cell_type": "code",
   "execution_count": 234,
   "metadata": {},
   "outputs": [],
   "source": [
    "#print(strBlock)"
   ]
  },
  {
   "cell_type": "code",
   "execution_count": null,
   "metadata": {
    "collapsed": true
   },
   "outputs": [],
   "source": []
  }
 ],
 "metadata": {
  "kernelspec": {
   "display_name": "Python 3",
   "language": "python",
   "name": "python3"
  },
  "language_info": {
   "codemirror_mode": {
    "name": "ipython",
    "version": 3
   },
   "file_extension": ".py",
   "mimetype": "text/x-python",
   "name": "python",
   "nbconvert_exporter": "python",
   "pygments_lexer": "ipython3",
   "version": "3.5.3"
  }
 },
 "nbformat": 4,
 "nbformat_minor": 2
}
